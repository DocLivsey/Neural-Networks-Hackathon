{
 "nbformat": 4,
 "nbformat_minor": 0,
 "metadata": {
  "colab": {
   "provenance": [],
   "mount_file_id": "1eLe5ZHvS96sn_HPyJh3Ixp4u9VPJPR8G",
   "authorship_tag": "ABX9TyOjc/xm/ZXbsZcJrs6sydl5"
  },
  "kernelspec": {
   "name": "python3",
   "display_name": "Python 3 (ipykernel)",
   "language": "python"
  },
  "language_info": {
   "name": "python"
  }
 },
 "cells": [
  {
   "cell_type": "markdown",
   "source": "# **All Imports**",
   "metadata": {
    "id": "bRTkqkoS0D3-"
   }
  },
  {
   "cell_type": "code",
   "metadata": {
    "id": "n7Wj0bh33CRl",
    "executionInfo": {
     "status": "ok",
     "timestamp": 1716121590346,
     "user_tz": -180,
     "elapsed": 9329,
     "user": {
      "displayName": "Anton Gorbachev",
      "userId": "11524218237024971449"
     }
    },
    "ExecuteTime": {
     "end_time": "2024-05-19T15:49:38.850204Z",
     "start_time": "2024-05-19T15:49:22.244744Z"
    }
   },
   "source": [
    "from keras.src.applications.resnet import ResNet50\n",
    "from keras.src.applications.resnet import preprocess_input\n",
    "from sklearn.neighbors import NearestNeighbors\n",
    "\n",
    "from PIL import Image\n",
    "from tqdm import tqdm\n",
    "from os import listdir\n",
    "from os.path import splitext\n",
    "\n",
    "import matplotlib.pyplot as plt\n",
    "import numpy as np\n",
    "import pickle as pk\n",
    "import os"
   ],
   "outputs": [],
   "execution_count": 1
  },
  {
   "cell_type": "markdown",
   "source": [
    "## **ALL PATHs**"
   ],
   "metadata": {
    "id": "IxSYet2U0bve"
   }
  },
  {
   "cell_type": "code",
   "source": [
    "PATH_TO_DRIVE = '/content/drive/MyDrive'\n",
    "\n",
    "DATASET_PATH = '/content/drive/MyDrive/dataset'\n",
    "UNLABELED_DATASET_PATH = '/content/drive/MyDrive/unlabeled_dataset'\n",
    "LABELED_TRAINING_PATH = '/content/drive/MyDrive/labeled_training'\n",
    "TRAINING_PATH = '/content/drive/MyDrive/training'\n",
    "##PATH_TO_FOUND_IMAGES = \"/content/drive/MyDrive/reverse_search_result\"\n",
    "\n",
    "PATH_TO_FOUND_IMAGES = \"/content/drive/MyDrive\"\n",
    "\n",
    "TEST_IMAGES = [\n",
    "    '59109174.jpg.jpg',\n",
    "    '59964405.jpg.jpg',\n",
    "]\n",
    "\n",
    "LOCAL_PATH = '../../Resources/training'\n"
   ],
   "metadata": {
    "id": "RE-TK5qz0cZc",
    "executionInfo": {
     "status": "ok",
     "timestamp": 1716122593629,
     "user_tz": -180,
     "elapsed": 300,
     "user": {
      "displayName": "Anton Gorbachev",
      "userId": "11524218237024971449"
     }
    },
    "ExecuteTime": {
     "end_time": "2024-05-19T15:58:58.988440Z",
     "start_time": "2024-05-19T15:58:58.980200Z"
    }
   },
   "outputs": [],
   "execution_count": 6
  },
  {
   "cell_type": "markdown",
   "source": [
    "### *Function for Show All Images*"
   ],
   "metadata": {
    "id": "gZm0yMAw0jYt"
   }
  },
  {
   "cell_type": "code",
   "source": [
    "def show_images(images, figsize=(20,10), columns=5):\n",
    "  plt.figure(figsize=figsize)\n",
    "  for i, image in enumerate(images):\n",
    "      plt.subplot(int(len(images) / columns + 1), columns, i + 1)\n",
    "      plt.imshow(image)"
   ],
   "metadata": {
    "id": "_eSQxBlO0lY8",
    "executionInfo": {
     "status": "ok",
     "timestamp": 1716121761495,
     "user_tz": -180,
     "elapsed": 537,
     "user": {
      "displayName": "Anton Gorbachev",
      "userId": "11524218237024971449"
     }
    },
    "ExecuteTime": {
     "end_time": "2024-05-19T15:57:28.985165Z",
     "start_time": "2024-05-19T15:57:28.977239Z"
    }
   },
   "outputs": [],
   "execution_count": 3
  },
  {
   "cell_type": "code",
   "source": [
    "#dataset_files_names = os.listdir(UNLABELED_DATASET_PATH)\n",
    "training_files_names = os.listdir(LOCAL_PATH)\n",
    "print(f\"number of train images: {len(training_files_names)}\")\n",
    "#print(f\"number of all images: {len(dataset_files_names)}\")"
   ],
   "metadata": {
    "colab": {
     "base_uri": "https://localhost:8080/"
    },
    "id": "If9MCnRp08lv",
    "executionInfo": {
     "status": "ok",
     "timestamp": 1716122669917,
     "user_tz": -180,
     "elapsed": 72265,
     "user": {
      "displayName": "Anton Gorbachev",
      "userId": "11524218237024971449"
     }
    },
    "outputId": "d355e794-1b42-4159-9abb-ffde0f2fb15a",
    "ExecuteTime": {
     "end_time": "2024-05-19T15:59:06.694894Z",
     "start_time": "2024-05-19T15:59:06.681351Z"
    }
   },
   "outputs": [
    {
     "name": "stdout",
     "output_type": "stream",
     "text": [
      "number of train images: 1500\n"
     ]
    }
   ],
   "execution_count": 7
  },
  {
   "cell_type": "markdown",
   "source": "## Helpful Functions",
   "metadata": {
    "id": "aQhrSNG204XV"
   }
  },
  {
   "cell_type": "code",
   "source": [
    "def read_img_file(f):\n",
    "    img = Image.open(f)\n",
    "    if img.mode != 'RGB':\n",
    "        img = img.convert('RGB')\n",
    "    return img\n",
    "\n",
    "def resize_img_to_array(img, img_shape):\n",
    "    img_array = np.array(\n",
    "        img.resize(\n",
    "            img_shape,\n",
    "            Image.Resampling.NEAREST\n",
    "        )\n",
    "    )\n",
    "    return img_array\n",
    "\n",
    "def get_features(img):\n",
    "    img_width, img_height = 224, 224\n",
    "    np_img = resize_img_to_array(img, img_shape=(img_width, img_height))\n",
    "    expanded_img_array = np.expand_dims(np_img, axis=0)\n",
    "    preprocessed_img = preprocess_input(expanded_img_array)\n",
    "    X_conv = model.predict(preprocessed_img)\n",
    "    image_features=X_conv[0]\n",
    "    image_features /=  np.linalg.norm(image_features)\n",
    "    return image_features\n",
    "\n",
    "def generate_resnet_features(path_to_files_folder):\n",
    "    all_image_features = []\n",
    "    image_filenames = listdir(path_to_files_folder)\n",
    "    image_ids = set(map(lambda el: splitext(el)[0], image_filenames))\n",
    "    try:\n",
    "       all_image_features = pk.load(open(\"resnet_image_features.pkl\", \"rb\"))\n",
    "    except (OSError, IOError) as e:\n",
    "       print(\"file_not_found\")\n",
    "\n",
    "    def exists_in_all_image_features(image_id):\n",
    "        for image in all_image_features:\n",
    "            if image['image_id'] == image_id:\n",
    "                return True\n",
    "        return False\n",
    "\n",
    "    def exists_in_image_folder(image_id):\n",
    "        if image_id in image_ids:\n",
    "                return True\n",
    "        return False\n",
    "\n",
    "    def sync_resnet_image_features():\n",
    "        for_deletion=[]\n",
    "        for i in range(len(all_image_features)):\n",
    "            if not exists_in_image_folder(all_image_features[i]['image_id']):\n",
    "                print(\"deleting \"+ str(all_image_features[i]['image_id']))\n",
    "                for_deletion.append(i)\n",
    "        for i in reversed(for_deletion):\n",
    "            del all_image_features[i]\n",
    "\n",
    "    sync_resnet_image_features()\n",
    "    for image_filename in tqdm(image_filenames):\n",
    "        image_id=splitext(image_filename)[0]\n",
    "        if exists_in_all_image_features(image_id):\n",
    "            continue\n",
    "        img_arr = read_img_file(path_to_files_folder + \"/\" + image_filename)\n",
    "        image_features = get_features(img_arr)\n",
    "        # print(image_filename)\n",
    "        # print(image_features)\n",
    "        all_image_features.append({'image_id': image_id,'features': image_features})\n",
    "    pk.dump(all_image_features, open(f\"resnet_image_features.pkl\",\"wb\"))"
   ],
   "metadata": {
    "id": "IcXUNXRW4QOb",
    "executionInfo": {
     "status": "ok",
     "timestamp": 1716123267402,
     "user_tz": -180,
     "elapsed": 380,
     "user": {
      "displayName": "Anton Gorbachev",
      "userId": "11524218237024971449"
     }
    },
    "ExecuteTime": {
     "end_time": "2024-05-19T16:06:34.703054Z",
     "start_time": "2024-05-19T16:06:34.674125Z"
    }
   },
   "outputs": [],
   "execution_count": 12
  },
  {
   "cell_type": "markdown",
   "source": [
    "# **CREATING MODELS**\n",
    "## *TRAINING DATASET*"
   ],
   "metadata": {
    "id": "JYSsMI6c4aGu"
   }
  },
  {
   "cell_type": "code",
   "source": [
    "model = ResNet50(weights='imagenet', include_top=False,\n",
    "                 input_shape=(224, 224, 3), pooling='max')\n",
    "generate_resnet_features(LOCAL_PATH)"
   ],
   "metadata": {
    "id": "1XCbcCBF4gQl"
   },
   "outputs": [],
   "execution_count": null
  },
  {
   "cell_type": "markdown",
   "source": "## *WHOLE DATASET*\n",
   "metadata": {
    "id": "8LzmdfBh5O8V"
   }
  },
  {
   "cell_type": "code",
   "source": [
    "model = ResNet50(weights='imagenet', include_top=False,\n",
    "                 input_shape=(224, 224, 3), pooling='max')\n",
    "generate_resnet_features(UNLABELED_DATASET_PATH)"
   ],
   "metadata": {
    "colab": {
     "base_uri": "https://localhost:8080/"
    },
    "id": "rg0iBbqM5PlN",
    "outputId": "684c1aeb-f47f-4771-d170-3c3123aa6ab1"
   },
   "outputs": [],
   "execution_count": null
  },
  {
   "cell_type": "markdown",
   "source": "## *PREPARE DATA*",
   "metadata": {
    "id": "VQGU61Kd5RlE"
   }
  },
  {
   "cell_type": "code",
   "source": [
    "query_image_pillow = Image.open(f'{TRAINING_PATH}/{TEST_IMAGES[0]}').convert('RGB')\n",
    "query_image_features = get_features(query_image_pillow)\n",
    "show_images([np.array(query_image_pillow)])\n",
    "print(query_image_features.shape)"
   ],
   "metadata": {
    "id": "OMpxkA6f5fvY"
   },
   "execution_count": null,
   "outputs": []
  },
  {
   "cell_type": "markdown",
   "source": [
    "# **SKLEARN**\n",
    "## *Found nearest neighbor in training*"
   ],
   "metadata": {
    "id": "fW5yJQs05kr0"
   }
  },
  {
   "cell_type": "code",
   "source": [
    "image_features = pk.load( open(f\"resnet_image_features_for_1500.pkl\", \"rb\"))\n",
    "features = []\n",
    "for image in image_features:\n",
    "    features.append(np.array(image['features']))\n",
    "features = np.array(features)\n",
    "features = np.squeeze(features)\n",
    "\n",
    "knn = NearestNeighbors(n_neighbors=20, algorithm='kd_tree', metric='l2')\n",
    "knn.fit(features)\n",
    "file_names = listdir(TRAINING_PATH)\n",
    "\n",
    "indices = knn.kneighbors([query_image_features], return_distance=False)\n",
    "found_images = []\n",
    "for x in indices[0]:\n",
    "    image = Image.open(TRAINING_PATH + \"/\" + file_names[x])\n",
    "    image = image.resize((224, 224))\n",
    "    found_images.append(np.array(image))\n",
    "\n",
    "found_images = np.array(found_images)\n",
    "#found_images = found_images.reshape((20, 224, 224, 3))\n",
    "show_images(found_images)"
   ],
   "metadata": {
    "id": "zJi6VvTd5lK_"
   },
   "execution_count": null,
   "outputs": []
  },
  {
   "cell_type": "markdown",
   "source": "## *Found nearest neighbor in whole dataset*",
   "metadata": {
    "id": "FCj9BUb55p3X"
   }
  },
  {
   "cell_type": "code",
   "source": [
    "image_features = pk.load( open(\"resnet_image_features.pkl\", \"rb\"))\n",
    "features = []\n",
    "for image in image_features:\n",
    "    features.append(np.array(image['features']))\n",
    "features = np.array(features)\n",
    "features = np.squeeze(features)\n",
    "\n",
    "knn = NearestNeighbors(n_neighbors=20, algorithm='kd_tree', metric='l2')\n",
    "knn.fit(features)\n",
    "file_names = listdir(TRAINING_PATH)\n",
    "\n",
    "indices = knn.kneighbors([query_image_features], return_distance=False)\n",
    "found_images = []\n",
    "for x in indices[0]:\n",
    "    image = Image.open(TRAINING_PATH + \"/\" + file_names[x])\n",
    "    image = image.resize((224, 224))\n",
    "    found_images.append(np.array(image))\n",
    "\n",
    "found_images = np.array(found_images)\n",
    "#found_images = found_images.reshape((20, 224, 224, 3))\n",
    "show_images(found_images)"
   ],
   "metadata": {
    "id": "AvK9CMLT5qaE"
   },
   "execution_count": null,
   "outputs": []
  }
 ]
}
